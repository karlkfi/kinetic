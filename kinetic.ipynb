{
 "cells": [
  {
   "cell_type": "markdown",
   "metadata": {
    "id": "UaIxleRQp0sf"
   },
   "source": [
    "# Checkout kpt package"
   ]
  },
  {
   "cell_type": "code",
   "execution_count": null,
   "metadata": {
    "id": "ALx-2JFeMagK"
   },
   "outputs": [],
   "source": [
    "!kpt pkg get https://github.com/GoogleCloudPlatform/blueprints/tree/main/catalog/gke"
   ]
  },
  {
   "cell_type": "markdown",
   "metadata": {
    "id": "j2M_J_CSpYX5"
   },
   "source": [
    "# KRM SDK"
   ]
  },
  {
   "cell_type": "code",
   "execution_count": null,
   "metadata": {
    "id": "kNiTkcJRufVN"
   },
   "outputs": [],
   "source": [
    "# YamlPackage, YamlFile, YamlFileObject\n",
    "\n",
    "import yaml, os, re\n",
    "\n",
    "class YamlPackage:\n",
    "  \"\"\"\n",
    "  YamlPackage wraps a directory tree on the local disk.\n",
    "  It provides a way to iterate over YAML files in the package as YamlFile instances.\n",
    "  \"\"\"\n",
    "\n",
    "  def __init__(self, pkg_path):\n",
    "    self.pkg_path = pkg_path\n",
    "    self.prefix_regex = re.compile(r\"^./\")\n",
    "    self.files_iter = None\n",
    "  \n",
    "  def __iter__(self):\n",
    "    self.walk_iter = os.walk(self.pkg_path)\n",
    "    return self\n",
    "  \n",
    "  # TODO: skip invisible dirs?\n",
    "  def __next__(self):\n",
    "    while True:\n",
    "      while self.files_iter != None:\n",
    "        try:\n",
    "          f = self.files_iter.__next__() # raises StopIteration\n",
    "        except StopIteration as exp:\n",
    "          break\n",
    "        # skip invisible files\n",
    "        if f.startswith(\".\"):\n",
    "          continue\n",
    "        # skip non-yaml files\n",
    "        if not f.endswith(\".yaml\") and not f.endswith(\".yml\"):\n",
    "          continue\n",
    "        # expand full path\n",
    "        f = os.path.join(self.parent_path, f)\n",
    "        # strip optional prefix\n",
    "        f = self.prefix_regex.sub(\"\", f, 1)\n",
    "        return YamlFile(f)\n",
    "      self.parent_path, _, files = self.walk_iter.__next__() # raises StopIteration\n",
    "      self.files_iter = files.__iter__()\n",
    "  \n",
    "  def find_object(self, obj_ref, skip_invalid=True):\n",
    "    if type(obj_ref) == ObjectReference:\n",
    "      obj_ref = obj_ref.to_str()\n",
    "    for yaml_file in self:\n",
    "      for obj in yaml_file:\n",
    "        try:\n",
    "          if obj.to_ref().to_str() == obj_ref:\n",
    "            return obj\n",
    "        except ObjectFieldNotFound as exp:\n",
    "          if not skip_invalid:\n",
    "            raise InvalidObject(obj, exp, yaml_file.file_path)\n",
    "    return None\n",
    "\n",
    "class YamlFile:\n",
    "  \"\"\"\n",
    "  YamlFile wraps a YAML file on the local disk.\n",
    "  It provides a way to iterate over objects in the file as YamlFileObject instances.\n",
    "  It also provides a way to write to the file with raw yaml or from an object or\n",
    "  list of objects.\n",
    "  \"\"\"\n",
    "\n",
    "  def __init__(self, file_path, mode='r'):\n",
    "    self.file_path = file_path\n",
    "    self.mode = mode\n",
    "    self.obj_iter = None\n",
    "    \n",
    "  def __enter__(self):\n",
    "    self.file = open(self.file_path, self.mode, encoding=\"utf-8\")\n",
    "    return self\n",
    "\n",
    "  def __exit__(self, exc_type, exc_val, exc_tb):\n",
    "    self.file.close()\n",
    "  \n",
    "  def write_obj(self, obj):\n",
    "    # unwrap YamlFileObject\n",
    "    objs = obj.obj\n",
    "    self.write_yaml(yaml.safe_dump(obj, default_flow_style=False))\n",
    "  \n",
    "  def write_objs(self, objs):\n",
    "    # unwrap YamlFileObject\n",
    "    objs = [obj.obj for obj in objs]\n",
    "    obj_yaml = yaml.safe_dump_all(objs, default_flow_style=False)\n",
    "    #print(obj_yaml)\n",
    "    self.write_yaml(obj_yaml)\n",
    "  \n",
    "  def write_yaml(self, objYaml):\n",
    "    self.file.write(objYaml)\n",
    "\n",
    "  def read_obj(self):\n",
    "    return YamlFileObject(yaml.safe_load(self.read_yaml()), self)\n",
    "  \n",
    "  def read_objs(self):\n",
    "    return [YamlFileObject(f, self, i) for i, f in enumerate(yaml.safe_load_all(self.read_yaml()))]\n",
    "  \n",
    "  def read_yaml(self):\n",
    "    return self.file.read()\n",
    "  \n",
    "  def __iter__(self):\n",
    "    with self as f:\n",
    "      self.obj_iter = f.read_objs().__iter__()\n",
    "    return self\n",
    "  \n",
    "  def __next__(self):\n",
    "    return self.obj_iter.__next__()\n",
    "\n",
    "# object context manager with field get/set backed by a YamlFile.\n",
    "class YamlFileObject:\n",
    "  \"\"\"\n",
    "  YamlFileObject wraps a dictionary parsed from an object in a YAML file.\n",
    "  It provides a way to read, modify, and write to the file using a dictionary.\n",
    "  It also provides helper methods for manupulating dictionaries with compound\n",
    "  dictionaries and lists.\n",
    "  \"\"\"\n",
    "\n",
    "  def __init__(self, obj, yaml_file, index=0):\n",
    "    self.obj = obj # dict\n",
    "    self.yaml_file = yaml_file\n",
    "    self.index = index\n",
    "    self.objs = None # []YamlFileObject\n",
    "  \n",
    "  # read on enter\n",
    "  def __enter__(self):\n",
    "    with YamlFile(self.yaml_file.file_path, 'r') as f:\n",
    "      #print(\"Reading: {}\".format(self.yaml_file.file_path))\n",
    "      self.objs = f.read_objs()\n",
    "      self.obj = self.objs[self.index].obj # unwrap YamlFileObject\n",
    "    return self\n",
    "\n",
    "  # write on exit\n",
    "  def __exit__(self, exc_type, exc_val, exc_tb):\n",
    "    self.objs[self.index] = YamlFileObject(self.obj, self.yaml_file, self.index)\n",
    "    with YamlFile(self.yaml_file.file_path, 'w') as f:\n",
    "      #print(\"Writing: {}\".format(self.yaml_file.file_path))\n",
    "      f.write_objs(self.objs)\n",
    "\n",
    "  def has_field(self, field_path):\n",
    "    curr = self.obj\n",
    "    for field in field_path:\n",
    "      if field not in curr:\n",
    "        return False\n",
    "      curr = curr[field]\n",
    "    return True\n",
    "\n",
    "  def get_field(self, field_path):\n",
    "    curr = self.obj\n",
    "    for field in field_path:\n",
    "      if field not in curr:\n",
    "        raise ObjectFieldNotFound(field, field_path)\n",
    "      curr = curr[field]\n",
    "    return curr\n",
    "  \n",
    "  def set_field(self, field_path, value):\n",
    "    curr = self.obj\n",
    "    for field in field_path[:-1]:\n",
    "      # TODO: add support for populating intermediate lists/maps\n",
    "      if field not in curr:\n",
    "        raise ObjectFieldNotFound(field, field_path)\n",
    "      curr = curr[field]\n",
    "    curr[field_path[-1]] = value\n",
    "  \n",
    "  def to_yaml(self):\n",
    "    return yaml.safe_dump(self.obj, default_flow_style=False)\n",
    "  \n",
    "  def to_ref(self):\n",
    "    if not self.has_field([\"metadata\"]):\n",
    "      raise ObjectFieldNotFound(\"metadata\")\n",
    "    if self.has_field([\"metadata\", \"namespace\"]):\n",
    "      namespace = self.get_field([\"metadata\", \"namespace\"])\n",
    "    else:\n",
    "      namespace = None\n",
    "    return ObjectReference(\n",
    "          api_version=self.get_field([\"apiVersion\"]), \n",
    "          kind=self.get_field([\"kind\"]),\n",
    "          name=self.get_field([\"metadata\", \"name\"]),\n",
    "          namespace=namespace)\n",
    "\n",
    "class ObjectReference:\n",
    "  def __init__(self, api_version, kind, name, namespace=None):\n",
    "    self.api_version = api_version\n",
    "    self.kind = kind\n",
    "    self.name = name\n",
    "    self.namespace = namespace\n",
    "\n",
    "  def to_str(self):\n",
    "    if self.namespace != None:\n",
    "      return \"{}/{}/namespaces/{}/{}\".format(\n",
    "          self.api_version, \n",
    "          self.kind,\n",
    "          self.namespace,\n",
    "          self.name)\n",
    "    return \"{}/{}/{}\".format(\n",
    "          self.api_version, \n",
    "          self.kind,\n",
    "          self.name)\n",
    "\n",
    "class ObjectFieldNotFound(Exception):\n",
    "  def __init__(self, field, field_path=None):\n",
    "    if field_path:\n",
    "      super().__init__(\"field not found: {} in path {}\".format(field, field_path))\n",
    "    else:\n",
    "      super().__init__(\"field not found: {}\".format(field))\n",
    "    self.field = field\n",
    "    self.field_path = field_path\n",
    "\n",
    "class InvalidObject(Exception):\n",
    "  def __init__(self, field, cause, file_path=None):\n",
    "    if file_path:\n",
    "      super().__init__(\"invalid object: {} in file {}: {}\".format(obj, file_path, cause))\n",
    "    else:\n",
    "      super().__init__(\"invalid object: {}: {}\".format(obj, cause))\n",
    "    self.obj = obj\n",
    "    self.cause = cause\n",
    "    self.file_path = file_path\n"
   ]
  },
  {
   "cell_type": "markdown",
   "metadata": {
    "id": "qakU9WmMsh07"
   },
   "source": [
    "# Print Funcs"
   ]
  },
  {
   "cell_type": "code",
   "execution_count": null,
   "metadata": {
    "id": "XZgFS4SQ_R8N"
   },
   "outputs": [],
   "source": [
    "# print_pkg_file_paths\n",
    "import pandas as pd\n",
    "\n",
    "def print_pkg_file_paths(pkg_path):\n",
    "  data = []\n",
    "  for f in YamlPackage(pkg_path):\n",
    "    data.append([f.file_path])\n",
    "  df = pd.DataFrame(data, columns=[\"File Path\"])\n",
    "  display(df)\n",
    "\n",
    "print(\"Package Files:\")\n",
    "print_pkg_file_paths(\".\")"
   ]
  },
  {
   "cell_type": "code",
   "execution_count": null,
   "metadata": {
    "id": "BCe1pYnpsWYU"
   },
   "outputs": [],
   "source": [
    "# print_pkg_obj_refs\n",
    "\n",
    "import pandas as pd\n",
    "\n",
    "def print_pkg_obj_refs(pkg_path):\n",
    "  data = []\n",
    "  for yaml_file in YamlPackage(pkg_path):\n",
    "    for obj in yaml_file:\n",
    "      ref = obj.to_ref()\n",
    "      data.append([yaml_file.file_path, ref.api_version, ref.kind, ref.namespace, ref.name])\n",
    "  df = pd.DataFrame(data, columns=[\"File Path\", \"API Version\", \"Kind\", \"Namespace\", \"Name\"])\n",
    "  display(df)\n",
    "\n",
    "print(\"Package Object References:\")\n",
    "print_pkg_obj_refs(\".\")"
   ]
  },
  {
   "cell_type": "code",
   "execution_count": null,
   "metadata": {
    "id": "jn0VLeEPsO8i"
   },
   "outputs": [],
   "source": [
    "def print_pkg_yaml(pkg_path):\n",
    "  for yaml_file in YamlPackage(pkg_path): \n",
    "    for obj in yaml_file:\n",
    "      print(\"---\")\n",
    "      # TODO: preserve comments & order\n",
    "      # TODO: inject file path as annotation\n",
    "      print(obj.to_yaml(), end=\"\")\n",
    "\n",
    "def print_objs_yaml(objs):\n",
    "  for obj in objs:\n",
    "    print(\"---\")\n",
    "    print(obj.to_yaml(), end=\"\")\n",
    "\n",
    "print(\"Package as YAML:\")\n",
    "print_pkg_yaml(\".\")"
   ]
  },
  {
   "cell_type": "markdown",
   "metadata": {
    "id": "QVnDLaZzst4s"
   },
   "source": [
    "# Example deployment.yaml"
   ]
  },
  {
   "cell_type": "code",
   "execution_count": null,
   "metadata": {
    "id": "C7dVF25P-lwx"
   },
   "outputs": [],
   "source": [
    "# from yaml\n",
    "with open(\"deployment.yaml\", 'w', encoding=\"utf-8\") as f:\n",
    "  f.write(\"\"\"\\\n",
    "apiVersion: apps/v1\n",
    "kind: Deployment\n",
    "metadata:\n",
    "  labels:\n",
    "    app: nginx\n",
    "  name: nginx\n",
    "  namespace: default\n",
    "spec:\n",
    "  replicas: 1\n",
    "  selector:\n",
    "    matchLabels:\n",
    "      app: nginx\n",
    "  template:\n",
    "    metadata:\n",
    "      labels:\n",
    "        app: nginx\n",
    "    spec:\n",
    "      containers:\n",
    "      - image: nginx:1.7.9\n",
    "        name: nginx\n",
    "        ports:\n",
    "        - containerPort: 80\n",
    "\"\"\")\n",
    "\n",
    "with open(\"deployment.yaml\", 'r', encoding=\"utf-8\") as f:\n",
    "  print(f.read())"
   ]
  },
  {
   "cell_type": "code",
   "execution_count": null,
   "metadata": {
    "id": "iW6s5djLvSLb"
   },
   "outputs": [],
   "source": [
    "# from client object\n",
    "# see https://github.com/kubernetes-client/python/blob/master/examples/notebooks/create_deployment.ipynb\n",
    "from kubernetes import client\n",
    "\n",
    "deployment = client.V1Deployment(\n",
    "  api_version=\"apps/v1\",\n",
    "  kind=\"Deployment\",\n",
    "  metadata=client.V1ObjectMeta(\n",
    "    name=\"nginx\",\n",
    "    namespace=\"default\",\n",
    "    labels={\"app\": \"nginx\"},\n",
    "  ),\n",
    "  spec=client.V1DeploymentSpec(\n",
    "    replicas=1,\n",
    "    selector=client.V1LabelSelector(\n",
    "      match_labels={\"app\": \"nginx\"},\n",
    "    ),\n",
    "    template=client.V1PodTemplateSpec(\n",
    "      metadata=client.V1ObjectMeta(\n",
    "          labels={\"app\": \"nginx\"},\n",
    "      ),\n",
    "      spec=client.V1PodSpec(\n",
    "        containers=[\n",
    "          client.V1Container(\n",
    "            name=\"nginx\",\n",
    "            image=\"nginx:1.7.9\",\n",
    "            ports=[\n",
    "              client.V1ContainerPort(\n",
    "                container_port=80,\n",
    "              ),\n",
    "            ],\n",
    "          ),\n",
    "        ],\n",
    "      ),\n",
    "    ),\n",
    "  ),\n",
    ")\n",
    "\n",
    "with open(\"deployment.yaml\", 'w', encoding=\"utf-8\") as f:\n",
    "  obj = client.ApiClient().sanitize_for_serialization(deployment)\n",
    "  f.write(yaml.safe_dump(obj, default_flow_style=False))\n",
    "\n",
    "with open(\"deployment.yaml\", 'r', encoding=\"utf-8\") as f:\n",
    "  print(f.read())"
   ]
  },
  {
   "cell_type": "markdown",
   "metadata": {
    "id": "nW2BdfOQszC8"
   },
   "source": [
    "# set_annotation"
   ]
  },
  {
   "cell_type": "code",
   "execution_count": null,
   "metadata": {
    "id": "p-vSoEhhNYak"
   },
   "outputs": [],
   "source": [
    "# Define: set_annotation\n",
    "\n",
    "def set_annotation(obj, key, value):\n",
    "  if not obj.has_field([\"metadata\"]):\n",
    "    obj.set_field(\"metadata\", {})\n",
    "  if not obj.has_field([\"metadata\", \"annotations\"]):\n",
    "    obj.set_field([\"metadata\", \"annotations\"], {})\n",
    "  obj.set_field([\"metadata\", \"annotations\", key], value)"
   ]
  },
  {
   "cell_type": "code",
   "execution_count": null,
   "metadata": {},
   "outputs": [],
   "source": [
    "# Set an annotation (example-key: example-value) on a specific object\n",
    "\n",
    "pkg = YamlPackage(\".\")\n",
    "deployment_ref = ObjectReference(\n",
    "    api_version=\"apps/v1\",\n",
    "    kind=\"Deployment\",\n",
    "    name=\"nginx\",\n",
    "    namespace=\"default\",\n",
    ")\n",
    "\n",
    "print(\"Before:\\n---\")\n",
    "print(pkg.find_object(deployment_ref).to_yaml())\n",
    "\n",
    "with pkg.find_object(deployment_ref) as obj:\n",
    "  set_annotation(obj, \"example-key\", \"example-value\")\n",
    "\n",
    "print(\"After:\\n---\")\n",
    "print(pkg.find_object(deployment_ref).to_yaml())"
   ]
  },
  {
   "cell_type": "markdown",
   "metadata": {
    "id": "FGf7pUSvs8Yo"
   },
   "source": [
    "# set_namespace"
   ]
  },
  {
   "cell_type": "code",
   "execution_count": null,
   "metadata": {
    "id": "lfiSHU2pMvNB"
   },
   "outputs": [],
   "source": [
    "# Define: is_obj_valid, is_obj_local_config, is_obj_namespace_scoped\n",
    "\n",
    "def is_obj_valid(obj):\n",
    "  if not obj.has_field([\"kind\"]):\n",
    "    return False\n",
    "  if not obj.has_field([\"metadata\"]):\n",
    "    return False\n",
    "  if not obj.has_field([\"metadata\", \"name\"]):\n",
    "    return False\n",
    "  return True\n",
    "\n",
    "def is_obj_local_config(obj):\n",
    "  if not is_obj_valid(obj):\n",
    "    return False\n",
    "  if obj.has_field([\"metadata\", \"annotation\"]):\n",
    "    if obj.has_field([\"metadata\", \"annotation\", \"config.kubernetes.io/local-config\"]):\n",
    "      if obj.get_field([\"metadata\", \"annotation\", \"config.kubernetes.io/local-config\"]) == \"true\":\n",
    "        return True\n",
    "  return False\n",
    "\n",
    "def is_obj_namespace_scoped(obj):\n",
    "  if not is_obj_valid(obj):\n",
    "    return False\n",
    "  # ignore objects without a namespace\n",
    "  # TODO: use cluster resource mapping to check scope (requires client & server)\n",
    "  if obj.has_field([\"metadata\", \"namespace\"]):\n",
    "    return True\n",
    "  return False\n",
    "\n",
    "def set_namespace(obj, value):\n",
    "  if not is_obj_namespace_scoped(obj):\n",
    "    return\n",
    "  obj.set_field([\"metadata\", \"namespace\"], value)"
   ]
  },
  {
   "cell_type": "code",
   "execution_count": null,
   "metadata": {},
   "outputs": [],
   "source": [
    "# Set namespace to \"example-namespace\" on all namespaced objects in the gke package\n",
    "\n",
    "for yaml_file in YamlPackage(\"gke\"): \n",
    "  for obj in yaml_file:\n",
    "    if is_obj_local_config(obj):\n",
    "      continue\n",
    "    with obj as o:\n",
    "     set_namespace(o, \"example-namespace\")\n",
    "\n",
    "print(\"\\nPackage Objects:\")\n",
    "print_pkg_obj_refs(\"gke\")"
   ]
  },
  {
   "cell_type": "markdown",
   "metadata": {
    "id": "23nOcGgKFMTf"
   },
   "source": [
    "# set_label"
   ]
  },
  {
   "cell_type": "code",
   "execution_count": null,
   "metadata": {
    "id": "ikDQvQTMFK2s"
   },
   "outputs": [],
   "source": [
    "# Define: set_label\n",
    "\n",
    "def set_label(obj, key, value):\n",
    "  if not obj.has_field([\"metadata\", \"labels\"]):\n",
    "    obj.set_field([\"metadata\", \"labels\"], {})\n",
    "  obj.set_field([\"metadata\", \"labels\", key], value)"
   ]
  },
  {
   "cell_type": "code",
   "execution_count": null,
   "metadata": {},
   "outputs": [],
   "source": [
    "# Set a label (example-label: example-value) on a specific object\n",
    "\n",
    "pkg = YamlPackage(\".\")\n",
    "deployment_ref = ObjectReference(\n",
    "    api_version=\"apps/v1\",\n",
    "    kind=\"Deployment\",\n",
    "    name=\"nginx\",\n",
    "    namespace=\"default\",\n",
    ")\n",
    "deployment = pkg.find_object(deployment_ref)\n",
    "  \n",
    "with deployment as o:\n",
    "  set_label(o, \"example-label\", \"example-value\")\n",
    "\n",
    "with open(\"deployment.yaml\", 'r', encoding=\"utf-8\") as f:\n",
    "  print(f.read())"
   ]
  },
  {
   "cell_type": "markdown",
   "metadata": {
    "id": "cxMqMOZ2JHBe"
   },
   "source": [
    "# select_by_label"
   ]
  },
  {
   "cell_type": "code",
   "execution_count": null,
   "metadata": {
    "id": "D2VdZnv5HxDQ"
   },
   "outputs": [],
   "source": [
    "# Define: has_label, select_by_label\n",
    "\n",
    "def has_label(obj, key, value=None):\n",
    "  if value == None:\n",
    "    return obj.has_field([\"metadata\", \"labels\", key])\n",
    "  if obj.has_field([\"metadata\", \"labels\", key]):\n",
    "    return obj.get_field([\"metadata\", \"labels\", key]) == value\n",
    "\n",
    "def select_by_label(pkg, key, value=None):\n",
    "  objs = []\n",
    "  for file in pkg:\n",
    "    for obj in file:\n",
    "      if has_label(obj, key, value):\n",
    "        objs.append(obj)\n",
    "  return objs"
   ]
  },
  {
   "cell_type": "code",
   "execution_count": null,
   "metadata": {},
   "outputs": [],
   "source": [
    "# Find objects with a specific label (example-label: example-value)\n",
    "\n",
    "pkg = YamlPackage(\".\")\n",
    "objs = select_by_label(pkg, \"example-label\", \"example-value\")\n",
    "print_objs_yaml(objs)"
   ]
  }
 ],
 "metadata": {
  "colab": {
   "collapsed_sections": [
    "30eOp5jUpiCS",
    "UaIxleRQp0sf",
    "j2M_J_CSpYX5",
    "vYp4DPf0M4ZV"
   ],
   "name": "krm-pipeline.ipynb",
   "provenance": []
  },
  "kernelspec": {
   "display_name": "Python 3 (ipykernel)",
   "language": "python",
   "name": "python3"
  },
  "language_info": {
   "codemirror_mode": {
    "name": "ipython",
    "version": 3
   },
   "file_extension": ".py",
   "mimetype": "text/x-python",
   "name": "python",
   "nbconvert_exporter": "python",
   "pygments_lexer": "ipython3",
   "version": "3.9.7"
  }
 },
 "nbformat": 4,
 "nbformat_minor": 1
}
